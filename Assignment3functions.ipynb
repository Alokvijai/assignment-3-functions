{
  "nbformat": 4,
  "nbformat_minor": 0,
  "metadata": {
    "colab": {
      "provenance": []
    },
    "kernelspec": {
      "name": "python3",
      "display_name": "Python 3"
    },
    "language_info": {
      "name": "python"
    }
  },
  "cells": [
    {
      "cell_type": "markdown",
      "source": [
        "1 -  What is the difference between a function and a method in Python?\n",
        "      \n",
        "   In Python, a function is an independent block of reusable code defined using the def keyword and can be called directly by its name. In contrast, a method is a function that is associated with a class and operates on its objects. Methods are defined inside a class and typically take self as their first parameter to refer to the instance they belong to. While functions exist independently, methods are invoked on objects using the syntax object.method(). Essentially, all methods are functions, but not all functions are methods.\n",
        "\n",
        "\n"
      ],
      "metadata": {
        "id": "lElENo1m5pY3"
      }
    },
    {
      "cell_type": "code",
      "source": [
        "# example of function\n",
        "def greet(name):\n",
        "    return f\"Hello, {name}!\"\n",
        "\n",
        "print(greet(\"Adebayo\"))\n",
        ""
      ],
      "metadata": {
        "colab": {
          "base_uri": "https://localhost:8080/"
        },
        "id": "m8IwUpgSKk8v",
        "outputId": "e92405b3-5cb8-4a3f-b3c5-7501b9bdc889"
      },
      "execution_count": 9,
      "outputs": [
        {
          "output_type": "stream",
          "name": "stdout",
          "text": [
            "Hello, Adebayo!\n"
          ]
        }
      ]
    },
    {
      "cell_type": "code",
      "source": [
        "# example of method\n",
        "class Greeter:\n",
        "    def greet(self, name):\n",
        "        return f\"Hello, {name}!\"\n",
        "\n",
        "greeter = Greeter()\n",
        "print(greeter.greet(\"Adebayo\"))"
      ],
      "metadata": {
        "colab": {
          "base_uri": "https://localhost:8080/"
        },
        "id": "pyJLjnhoK7CO",
        "outputId": "18fc7998-e28d-4478-861c-b99efeb84f2d"
      },
      "execution_count": 10,
      "outputs": [
        {
          "output_type": "stream",
          "name": "stdout",
          "text": [
            "Hello, Adebayo!\n"
          ]
        }
      ]
    },
    {
      "cell_type": "markdown",
      "source": [
        "2 - Explain the concept of function arguments and parameters in Python?\n",
        "\n",
        "In Python, parameters are variables defined in a function's declaration, acting as placeholders for the inputs a function expects, while arguments are the actual values passed to the function when it is called. Python supports different types of arguments: positional arguments match parameters by their position, keyword arguments match parameters by their names, default arguments provide fallback values if no argument is passed, and variable-length arguments (*args and **kwargs) allow a function to accept an arbitrary number of positional or keyword arguments. This flexibility enables Python functions to handle a wide variety of inputs.\n",
        "\n",
        "\n",
        "\n",
        "\n",
        "\n",
        "\n",
        "\n"
      ],
      "metadata": {
        "id": "qdrF0qks6w2H"
      }
    },
    {
      "cell_type": "code",
      "source": [
        "# positional argument\n",
        "def greet(name, age):\n",
        "    print(f\"Hello, {name}! You are {age} years old.\")\n",
        "\n",
        "greet(\"Adebayo\", 25)"
      ],
      "metadata": {
        "colab": {
          "base_uri": "https://localhost:8080/"
        },
        "id": "6sYY9-E3LUJx",
        "outputId": "e6c107a7-4507-4b7a-bb0c-74bd17aa06ef"
      },
      "execution_count": 11,
      "outputs": [
        {
          "output_type": "stream",
          "name": "stdout",
          "text": [
            "Hello, Adebayo! You are 25 years old.\n"
          ]
        }
      ]
    },
    {
      "cell_type": "code",
      "source": [
        "# Keyword Arguments\n",
        "greet(name=\"Adebayo\", age=25)\n",
        "greet"
      ],
      "metadata": {
        "colab": {
          "base_uri": "https://localhost:8080/",
          "height": 121
        },
        "id": "YqrJw5ZBLcMQ",
        "outputId": "21edcc95-2366-4dab-ab05-39c7a20a22fe"
      },
      "execution_count": 13,
      "outputs": [
        {
          "output_type": "stream",
          "name": "stdout",
          "text": [
            "Hello, Adebayo! You are 25 years old.\n"
          ]
        },
        {
          "output_type": "execute_result",
          "data": {
            "text/plain": [
              "<function __main__.greet(name, age)>"
            ],
            "text/html": [
              "<div style=\"max-width:800px; border: 1px solid var(--colab-border-color);\"><style>\n",
              "      pre.function-repr-contents {\n",
              "        overflow-x: auto;\n",
              "        padding: 8px 12px;\n",
              "        max-height: 500px;\n",
              "      }\n",
              "\n",
              "      pre.function-repr-contents.function-repr-contents-collapsed {\n",
              "        cursor: pointer;\n",
              "        max-height: 100px;\n",
              "      }\n",
              "    </style>\n",
              "    <pre style=\"white-space: initial; background:\n",
              "         var(--colab-secondary-surface-color); padding: 8px 12px;\n",
              "         border-bottom: 1px solid var(--colab-border-color);\"><b>greet</b><br/>def greet(name, age)</pre><pre class=\"function-repr-contents function-repr-contents-collapsed\" style=\"\"><a class=\"filepath\" style=\"display:none\" href=\"#\">/content/&lt;ipython-input-11-e6b8c27af8ee&gt;</a>&lt;no docstring&gt;</pre></div>"
            ]
          },
          "metadata": {},
          "execution_count": 13
        }
      ]
    },
    {
      "cell_type": "code",
      "source": [
        "# default argument\n",
        "def greet(name, age=18):\n",
        "    print(f\"Hello, {name}! You are {age} years old.\")\n",
        "\n",
        "greet(\"Adebayo\")"
      ],
      "metadata": {
        "colab": {
          "base_uri": "https://localhost:8080/"
        },
        "id": "OtYW2rfXLwyj",
        "outputId": "617e2108-8b18-47e0-b4d3-bce9e6c1ed45"
      },
      "execution_count": 14,
      "outputs": [
        {
          "output_type": "stream",
          "name": "stdout",
          "text": [
            "Hello, Adebayo! You are 18 years old.\n"
          ]
        }
      ]
    },
    {
      "cell_type": "code",
      "source": [
        "# Variable-Length Arguments\n",
        "def add_numbers(*args):\n",
        "    return sum(args)\n",
        "\n",
        "print(add_numbers(1, 2, 3, 4))"
      ],
      "metadata": {
        "colab": {
          "base_uri": "https://localhost:8080/"
        },
        "id": "edApa5avMcf6",
        "outputId": "fd6ef4ec-0eaa-4d08-f2bb-76c7ace44bd3"
      },
      "execution_count": 15,
      "outputs": [
        {
          "output_type": "stream",
          "name": "stdout",
          "text": [
            "10\n"
          ]
        }
      ]
    },
    {
      "cell_type": "markdown",
      "source": [
        "3- What are the different ways to define and call a function in Python?\n",
        "\n",
        "\n",
        "\n",
        "\n",
        "\n",
        "\n",
        "\n"
      ],
      "metadata": {
        "id": "QIc7p1Q076RA"
      }
    },
    {
      "cell_type": "code",
      "source": [
        "# 1. Defining a Regular Function\n",
        "# Use the def keyword to define a function and call it by its name followed by parentheses.\n",
        "\n",
        "def greet(name):\n",
        "    return f\"Hello, {name}!\"\n",
        "\n",
        "print(greet(\"Alice\"))   # Output: Hello, Alice!\n",
        "\n",
        "\n",
        "# 2. Using Default Arguments\n",
        "# Define a function with default parameter values, which are used if no arguments are passed.\n",
        "\n",
        "\n",
        "def greet(name=\"Guest\"):\n",
        "    return f\"Hello, {name}!\"\n",
        "\n",
        "print(greet())           # Output: Hello, Guest!\n",
        "print(greet(\"Bob\"))      # Output: Hello, Bob!\n",
        "# 3. Using Keyword Arguments\n",
        "# Call a function by specifying argument names for clarity.\n",
        "\n",
        "\n",
        "def greet(name, message):\n",
        "    return f\"{message}, {name}!\"\n",
        "\n",
        "print(greet(name=\"Alice\", message=\"Good morning\"))  # Output: Good morning, Alice!\n",
        "# 4. Variable-Length Arguments (*args and **kwargs)\n",
        "# *args: Handle a variable number of positional arguments.\n",
        "# **kwargs: Handle a variable number of keyword arguments.\n",
        "\n",
        "# Using *args\n",
        "def add_numbers(*args):\n",
        "    return sum(args)\n",
        "\n",
        "print(add_numbers(1, 2, 3))  # Output: 6\n",
        "\n",
        "# Using **kwargs\n",
        "def print_info(**kwargs):\n",
        "    for key, value in kwargs.items():\n",
        "        print(f\"{key}: {value}\")\n",
        "\n",
        "print_info(name=\"Alice\", age=25)  # Output: name: Alice, age: 25\n",
        "# 5. Using Lambda Functions\n",
        "# Define small, anonymous functions in a single line using lambda.\n",
        "\n",
        "\n",
        "square = lambda x: x ** 2\n",
        "print(square(5))  # Output: 25\n",
        "# 6. Calling Functions Recursively\n",
        "# A function can call itself to perform repetitive tasks.\n",
        "\n",
        "\n",
        "def factorial(n):\n",
        "    if n == 0:\n",
        "        return 1\n",
        "    return n * factorial(n - 1)\n",
        "\n",
        "print(factorial(5))  # Output: 120\n",
        "# 7. Using Decorators\n",
        "# Decorators modify the behavior of a function without changing its definition.\n",
        "\n",
        "\n",
        "def decorator(func):\n",
        "    def wrapper():\n",
        "        print(\"Before function\")\n",
        "        func()\n",
        "        print(\"After function\")\n",
        "    return wrapper\n",
        "\n",
        "@decorator\n",
        "def say_hello():\n",
        "    print(\"Hello!\")\n",
        "\n",
        "say_hello()\n",
        "# Output:\n",
        "# Before function\n",
        "# Hello!\n",
        "# After function\n",
        "# 8. Using Higher-Order Functions (map, filter, reduce)\n",
        "# Functions can be passed as arguments to these higher-order functions.\n",
        "\n",
        "\n",
        "from functools import reduce\n",
        "\n",
        "numbers = [1, 2, 3, 4]\n",
        "\n",
        "# Using map\n",
        "squares = map(lambda x: x ** 2, numbers)\n",
        "print(list(squares))  # Output: [1, 4, 9, 16]\n",
        "\n",
        "# Using filter\n",
        "even_numbers = filter(lambda x: x % 2 == 0, numbers)\n",
        "print(list(even_numbers))  # Output: [2, 4]\n",
        "\n",
        "# Using reduce\n",
        "total = reduce(lambda x, y: x + y, numbers)\n",
        "print(total)  # Output: 10\n"
      ],
      "metadata": {
        "id": "NsZsCNtVcYTK"
      },
      "execution_count": null,
      "outputs": []
    },
    {
      "cell_type": "markdown",
      "source": [
        "4-What is the purpose of the `return` statement in a Python function?\n",
        "\n",
        "\n",
        "The return statement in a Python function is used to send a value (or multiple values) back to the caller of the function. It allows a function to produce an output after completing its task, which can then be used for further computation or processing. Once the return statement is executed, the function terminates, and the value specified in the return statement is passed back to the calling code. If no return statement is used, or it is written without a value (e.g., return), the function returns None by default. The return statement is crucial for making functions reusable and enabling them to interact with other parts of a program by providing meaningful outputs"
      ],
      "metadata": {
        "id": "mXf0pNymBi83"
      }
    },
    {
      "cell_type": "markdown",
      "source": [
        "5-. What are iterators in Python and how do they differ from iterables?\n",
        "   \n",
        "\n",
        "   Iterable:\n",
        "\n",
        "An object capable of returning its elements one at a time.\n",
        "Examples include lists, tuples, dictionaries, sets, and strings.\n",
        "Any object that implements the __iter__() method is considered iterable"
      ],
      "metadata": {
        "id": "JE8o9xMceUyb"
      }
    },
    {
      "cell_type": "code",
      "source": [
        "my_list = [1, 2, 3]\n",
        "for item in my_list:  # my_list is an iterable\n",
        "    print(item)"
      ],
      "metadata": {
        "id": "g35gZqT0ehb1",
        "outputId": "4b864186-d6c4-4295-9d95-fedfa571ad0e",
        "colab": {
          "base_uri": "https://localhost:8080/"
        }
      },
      "execution_count": 20,
      "outputs": [
        {
          "output_type": "stream",
          "name": "stdout",
          "text": [
            "1\n",
            "2\n",
            "3\n"
          ]
        }
      ]
    },
    {
      "cell_type": "markdown",
      "source": [
        "Iterator:\n",
        "\n",
        "An object that represents a stream of data.\n",
        "It implements the __iter__() and __next__() methods.\n",
        "The __next__() method fetches the next item in the sequence. When there are no items left, it raises a StopIteration exception"
      ],
      "metadata": {
        "id": "iH1hyraWelal"
      }
    },
    {
      "cell_type": "code",
      "source": [
        "my_list = [1, 2, 3]\n",
        "iterator = iter(my_list)\n",
        "print(next(iterator))\n",
        "print(next(iterator))\n",
        "print(next(iterator))\n"
      ],
      "metadata": {
        "id": "HY-C5Hubeqje",
        "outputId": "0f638931-0080-40ac-9d06-e94431de2452",
        "colab": {
          "base_uri": "https://localhost:8080/"
        }
      },
      "execution_count": 21,
      "outputs": [
        {
          "output_type": "stream",
          "name": "stdout",
          "text": [
            "1\n",
            "2\n",
            "3\n"
          ]
        }
      ]
    },
    {
      "cell_type": "markdown",
      "source": [
        "6. Explain the concept of generators in Python and how they are defined.\n",
        "\n",
        "\n",
        "Generators in Python are special functions that produce values one at a time using the yield keyword, instead of returning them all at once like lists. When a generator function is called, it returns a generator object that can be iterated over. Each time next() is called, the function resumes execution from where it left off, making generators memory-efficient and ideal for handling large datasets. Unlike lists, generators do not store all items in memory; they generate values on demand, which is also known as lazy evaluation\n",
        "\n",
        "\n",
        "\n"
      ],
      "metadata": {
        "id": "ZRUIyxALDjSq"
      }
    },
    {
      "cell_type": "markdown",
      "source": [],
      "metadata": {
        "id": "n4lddoG55nkR"
      }
    },
    {
      "cell_type": "code",
      "execution_count": 1,
      "metadata": {
        "colab": {
          "base_uri": "https://localhost:8080/"
        },
        "id": "85JbTAmxsTtp",
        "outputId": "16fa0c80-6dbe-4217-e712-7848f78fb281"
      },
      "outputs": [
        {
          "output_type": "stream",
          "name": "stdout",
          "text": [
            "1\n",
            "2\n",
            "3\n"
          ]
        }
      ],
      "source": [
        "# example\n",
        "def count_up_to(n):\n",
        "    count = 1\n",
        "    while count <= n:\n",
        "        yield count\n",
        "        count += 1\n",
        "\n",
        "for num in count_up_to(3):\n",
        "    print(num)\n"
      ]
    },
    {
      "cell_type": "markdown",
      "source": [
        "\n",
        "7.What are the advantages of using generators over regular functions?\n",
        "\n",
        "Generators provide several advantages over regular functions, especially for handling large datasets. They are memory-efficient because they produce values on demand (lazy evaluation) instead of storing them all in memory at once. Generators also improve performance by generating data incrementally, reducing computational overhead. They automatically retain their state between calls, simplifying code that requires state management. Additionally, generators make it easy to create cleaner, more readable code for iterative tasks and support pipelining, allowing you to process data in steps efficiently. These features make generators ideal for tasks like data processing, streaming, or working with infinite sequences"
      ],
      "metadata": {
        "id": "GLbfeMrBEgUB"
      }
    },
    {
      "cell_type": "code",
      "source": [
        "# example\n",
        "def generate_squares(n):\n",
        "    for i in range(1, n + 1):\n",
        "        yield i ** 2\n",
        "\n",
        "# Using the generator to process values one at a time\n",
        "for square in generate_squares(5):\n",
        "    print(square)\n"
      ],
      "metadata": {
        "colab": {
          "base_uri": "https://localhost:8080/"
        },
        "id": "zMDkvvTGEUxy",
        "outputId": "a52f9a47-2686-4697-eea5-1aca20eec7cb"
      },
      "execution_count": 2,
      "outputs": [
        {
          "output_type": "stream",
          "name": "stdout",
          "text": [
            "1\n",
            "4\n",
            "9\n",
            "16\n",
            "25\n"
          ]
        }
      ]
    },
    {
      "cell_type": "markdown",
      "source": [
        "8.What is a lambda function in Python and when is it typically used?\n",
        "\n",
        "\n",
        "A lambda function in Python is a small, anonymous function defined using the lambda keyword. It can have any number of arguments but only a single expression, which is evaluated and returned. Lambda functions are concise and are typically used for short, simple operations that don't require the overhead of defining a full function with the def keyword. They are often used in scenarios like sorting, filtering, or mapping data, where a temporary function is needed for immediate use."
      ],
      "metadata": {
        "id": "crj2K6xJFosu"
      }
    },
    {
      "cell_type": "code",
      "source": [
        "# example\n",
        "# Lambda function to add two numbers\n",
        "add = lambda x, y: x + y\n",
        "print(add(3, 5))\n",
        "\n",
        "# Using lambda with `sorted`\n",
        "names = [\"John\", \"Alice\", \"Bob\"]\n",
        "sorted_names = sorted(names, key=lambda name: len(name))\n",
        "print(sorted_names)\n"
      ],
      "metadata": {
        "colab": {
          "base_uri": "https://localhost:8080/"
        },
        "id": "aPUhAI7xFatc",
        "outputId": "d06ba884-60cf-4203-fc85-773ba8b6fa47"
      },
      "execution_count": 3,
      "outputs": [
        {
          "output_type": "stream",
          "name": "stdout",
          "text": [
            "8\n",
            "['Bob', 'John', 'Alice']\n"
          ]
        }
      ]
    },
    {
      "cell_type": "markdown",
      "source": [
        "9. Explain the purpose and usage of the `map()` function in Python.\n",
        "\n",
        "The map() function in Python is used to apply a specified function to each item of an iterable, such as a list or tuple, and returns an iterator with the results. This function is useful for performing the same operation on every item in a collection without explicitly writing a loop. The map() function takes two arguments: a function and an iterable, and it can be particularly helpful when transforming data or performing calculations on elements of an iterable. It can also be used with lambda functions for concise one-liner transformations"
      ],
      "metadata": {
        "id": "J7iIWBmTGfrE"
      }
    },
    {
      "cell_type": "code",
      "source": [
        "# example\n",
        "\n",
        "numbers = [1, 2, 3, 4, 5]\n",
        "squared_numbers = map(lambda x: x ** 2, numbers)\n",
        "print(list(squared_numbers))\n"
      ],
      "metadata": {
        "colab": {
          "base_uri": "https://localhost:8080/"
        },
        "id": "bmJNvNBMF_ve",
        "outputId": "7519dac0-5cfe-4aeb-a18d-b8a8c7e4b69f"
      },
      "execution_count": 4,
      "outputs": [
        {
          "output_type": "stream",
          "name": "stdout",
          "text": [
            "[1, 4, 9, 16, 25]\n"
          ]
        }
      ]
    },
    {
      "cell_type": "markdown",
      "source": [
        "10. What is the difference between `map()`, `reduce()`, and `filter()` functions in Python?\n",
        "\n",
        "The map(), reduce(), and filter() functions in Python are all used to process iterables, but they differ in their operations. The map() function applies a specified function to each item in an iterable and returns a transformed iterator, making it useful for performing operations on all elements. The reduce() function (from the functools module) applies a function cumulatively to the items of an iterable, reducing them to a single value, ideal for aggregation tasks. The filter() function filters elements based on a condition, returning an iterator that includes only those elements that satisfy the condition."
      ],
      "metadata": {
        "id": "5u839wzRG0f2"
      }
    },
    {
      "cell_type": "code",
      "source": [
        "# example of map\n",
        "numbers = [1, 2, 3, 4]\n",
        "squared = map(lambda x: x ** 2, numbers)\n",
        "print(list(squared))\n"
      ],
      "metadata": {
        "colab": {
          "base_uri": "https://localhost:8080/"
        },
        "id": "uu45SNVNGvC1",
        "outputId": "6e090b1f-68c7-4c4c-978c-e5832f1e2c8b"
      },
      "execution_count": 5,
      "outputs": [
        {
          "output_type": "stream",
          "name": "stdout",
          "text": [
            "[1, 4, 9, 16]\n"
          ]
        }
      ]
    },
    {
      "cell_type": "code",
      "source": [
        "# example of reduce\n",
        "from functools import reduce\n",
        "numbers = [1, 2, 3, 4]\n",
        "product = reduce(lambda x, y: x * y, numbers)\n",
        "print(product)"
      ],
      "metadata": {
        "colab": {
          "base_uri": "https://localhost:8080/"
        },
        "id": "3e_z8rAOHP6_",
        "outputId": "d1a5ecfe-5d9e-4480-b3cf-73b51c4cca2b"
      },
      "execution_count": 6,
      "outputs": [
        {
          "output_type": "stream",
          "name": "stdout",
          "text": [
            "24\n"
          ]
        }
      ]
    },
    {
      "cell_type": "code",
      "source": [
        "# example of filter\n",
        "numbers = [1, 2, 3, 4, 5]\n",
        "evens = filter(lambda x: x % 2 == 0, numbers)\n",
        "print(list(evens))"
      ],
      "metadata": {
        "colab": {
          "base_uri": "https://localhost:8080/"
        },
        "id": "qWlZjeYxHaiU",
        "outputId": "604a0e1f-c7f1-45f6-f872-df1e3b145f90"
      },
      "execution_count": 7,
      "outputs": [
        {
          "output_type": "stream",
          "name": "stdout",
          "text": [
            "[2, 4]\n"
          ]
        }
      ]
    },
    {
      "cell_type": "markdown",
      "source": [
        "11.write the internal mechanism for sum operation using  reduce function on this given\n",
        "list:[47,11,42,13];\n",
        "\n",
        "\n",
        "![answer.jpg](data:image/jpeg;base64,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)"
      ],
      "metadata": {
        "id": "9EaQ0TL9IEpm"
      }
    },
    {
      "cell_type": "code",
      "source": [
        "# practical questions\n"
      ],
      "metadata": {
        "id": "V69lUegiHiW8"
      },
      "execution_count": 16,
      "outputs": []
    },
    {
      "cell_type": "code",
      "source": [
        "# 1. Write a Python function that takes a list of numbers as input and returns the sum of all even numbers in the list"
      ],
      "metadata": {
        "id": "ZJr5lSRdNNka"
      },
      "execution_count": 17,
      "outputs": []
    },
    {
      "cell_type": "code",
      "source": [
        "from functools import reduce\n",
        "\n",
        "def sum_of_even_numbers(numbers):\n",
        "    \"\"\"\n",
        "    Calculates the sum of all even numbers in a list.\n",
        "\n",
        "    Args:\n",
        "    numbers (list): A list of numbers.\n",
        "\n",
        "    Returns:\n",
        "    int: The sum of all even numbers in the list. Returns 0 if the list is empty or contains no even numbers.\n",
        "    \"\"\"\n",
        "    even_numbers = [num for num in numbers if num % 2 == 0]\n",
        "    if not even_numbers:\n",
        "        return 0\n",
        "    return reduce(lambda x, y: x + y, even_numbers)"
      ],
      "metadata": {
        "id": "_lje76OeNTLa"
      },
      "execution_count": 18,
      "outputs": []
    },
    {
      "cell_type": "code",
      "source": [
        "sum_of_even_numbers([1,2,8,6,44,62,55])"
      ],
      "metadata": {
        "colab": {
          "base_uri": "https://localhost:8080/"
        },
        "id": "VFVYAksGNdnp",
        "outputId": "7b4a0af1-9396-4405-ec22-b81c1ca7e527"
      },
      "execution_count": 19,
      "outputs": [
        {
          "output_type": "execute_result",
          "data": {
            "text/plain": [
              "122"
            ]
          },
          "metadata": {},
          "execution_count": 19
        }
      ]
    },
    {
      "cell_type": "code",
      "source": [
        "# 2. Create a Python function that accepts a string and returns the reverse of that string"
      ],
      "metadata": {
        "id": "A-rwOhmjNvb8"
      },
      "execution_count": 20,
      "outputs": []
    },
    {
      "cell_type": "code",
      "source": [
        "def reverse_string(input_string):\n",
        "    \"\"\"\n",
        "    Reverses a given string.\n",
        "\n",
        "    Args:\n",
        "    input_string (str): The string to be reversed.\n",
        "\n",
        "    Returns:\n",
        "    str: The reversed string.\n",
        "    \"\"\"\n",
        "    return input_string[::-1]"
      ],
      "metadata": {
        "id": "rq2ciTvTN6YZ"
      },
      "execution_count": 21,
      "outputs": []
    },
    {
      "cell_type": "code",
      "source": [
        "reverse_string(\"grgdhgdhhdh\")"
      ],
      "metadata": {
        "colab": {
          "base_uri": "https://localhost:8080/",
          "height": 36
        },
        "id": "UwLT0FJ2OEVa",
        "outputId": "5c9af930-d135-4a91-d69a-51d988db6402"
      },
      "execution_count": 22,
      "outputs": [
        {
          "output_type": "execute_result",
          "data": {
            "text/plain": [
              "'hdhhdghdgrg'"
            ],
            "application/vnd.google.colaboratory.intrinsic+json": {
              "type": "string"
            }
          },
          "metadata": {},
          "execution_count": 22
        }
      ]
    },
    {
      "cell_type": "code",
      "source": [
        "# 3. Implement a Python function that takes a list of integers and returns a new list containing the squares of each number"
      ],
      "metadata": {
        "id": "xv1U6P7kOKEZ"
      },
      "execution_count": 23,
      "outputs": []
    },
    {
      "cell_type": "code",
      "source": [
        "def squares_of_numbers(numbers):\n",
        "    \"\"\"\n",
        "    Calculates the squares of each number in a list.\n",
        "\n",
        "    Args:\n",
        "    numbers (list): A list of integers.\n",
        "\n",
        "    Returns:\n",
        "    list: A new list containing the squares of each number in the input list.\n",
        "          Returns an empty list if the input list is empty.\n",
        "    \"\"\"\n",
        "    if not numbers:\n",
        "        return []\n",
        "    return [num**2 for num in numbers]"
      ],
      "metadata": {
        "id": "9uBcCq7yOTED"
      },
      "execution_count": 24,
      "outputs": []
    },
    {
      "cell_type": "code",
      "source": [
        "squares_of_numbers([1,2,3,4,5])"
      ],
      "metadata": {
        "colab": {
          "base_uri": "https://localhost:8080/"
        },
        "id": "S8TZpGV8ObA6",
        "outputId": "04e370c2-5218-49f5-c711-9368cedfead8"
      },
      "execution_count": 25,
      "outputs": [
        {
          "output_type": "execute_result",
          "data": {
            "text/plain": [
              "[1, 4, 9, 16, 25]"
            ]
          },
          "metadata": {},
          "execution_count": 25
        }
      ]
    },
    {
      "cell_type": "code",
      "source": [
        "# 4. Write a Python function that checks if a given number is prime or not from 1 to 200."
      ],
      "metadata": {
        "id": "w2i4rAMiOhtz"
      },
      "execution_count": 1,
      "outputs": []
    },
    {
      "cell_type": "code",
      "source": [
        "import math\n",
        "\n",
        "def is_prime(number):\n",
        "    \"\"\"\n",
        "    Checks if a given number is prime or not.\n",
        "\n",
        "    Args:\n",
        "        number: The number to check for primality.\n",
        "\n",
        "    Returns:\n",
        "        True if the number is prime, False otherwise.\n",
        "    \"\"\"\n",
        "    if number <= 1:\n",
        "        return False\n",
        "    if number <= 3:\n",
        "        return True\n",
        "    if number % 2 == 0 or number % 3 == 0:\n",
        "        return False\n",
        "    i = 5\n",
        "    while i * i <= number:\n",
        "        if number % i == 0 or number % (i + 2) == 0:\n",
        "            return False\n",
        "        i += 6\n",
        "    return True"
      ],
      "metadata": {
        "id": "afimkyrmRkn3"
      },
      "execution_count": 2,
      "outputs": []
    },
    {
      "cell_type": "code",
      "source": [
        "is_prime(2)"
      ],
      "metadata": {
        "id": "yskbExb7Roiu",
        "outputId": "112554a3-9d6d-4c5f-d51e-ea7e3a607e58",
        "colab": {
          "base_uri": "https://localhost:8080/"
        }
      },
      "execution_count": 3,
      "outputs": [
        {
          "output_type": "execute_result",
          "data": {
            "text/plain": [
              "True"
            ]
          },
          "metadata": {},
          "execution_count": 3
        }
      ]
    },
    {
      "cell_type": "code",
      "source": [
        "# 5.Create an iterator class in Python that generates the Fibonacci sequence up to a specified number of terms."
      ],
      "metadata": {
        "id": "AYAkVZIVRspd"
      },
      "execution_count": 4,
      "outputs": []
    },
    {
      "cell_type": "code",
      "source": [
        "class FibonacciIterator:\n",
        "    def __init__(self, max_terms):\n",
        "        self.max_terms = max_terms\n",
        "        self.a = 0\n",
        "        self.b = 1\n",
        "        self.count = 0\n",
        "\n",
        "    def __iter__(self):\n",
        "        return self\n",
        "\n",
        "    def __next__(self):\n",
        "        if self.count >= self.max_terms:\n",
        "            raise StopIteration\n",
        "\n",
        "        if self.count == 0:\n",
        "            self.count += 1\n",
        "            return self.a\n",
        "        elif self.count == 1:\n",
        "            self.count += 1\n",
        "            return self.b\n",
        "        else:\n",
        "            self.a, self.b = self.b, self.a + self.b\n",
        "            self.count += 1\n",
        "            return self.b"
      ],
      "metadata": {
        "id": "5xmOZGYtSWmH"
      },
      "execution_count": 5,
      "outputs": []
    },
    {
      "cell_type": "code",
      "source": [
        "# 6. Write a generator function in Python that yields the powers of 2 up to a given exponent."
      ],
      "metadata": {
        "id": "cH-gtAEJSdGf"
      },
      "execution_count": 8,
      "outputs": []
    },
    {
      "cell_type": "code",
      "source": [
        "def powers_of_2(exponent):\n",
        "    \"\"\"\n",
        "    Generates powers of 2 up to a given exponent.\n",
        "\n",
        "    Args:\n",
        "        exponent: The maximum exponent for the powers of 2.\n",
        "\n",
        "    Yields:\n",
        "        int: The next power of 2.\n",
        "    \"\"\"\n",
        "    for i in range(exponent + 1):\n",
        "        yield 2**i"
      ],
      "metadata": {
        "id": "ZMpAkU6oS368"
      },
      "execution_count": 9,
      "outputs": []
    },
    {
      "cell_type": "code",
      "source": [
        "# 7.  Implement a generator function that reads a file line by line and yields each line as a string"
      ],
      "metadata": {
        "id": "q6XShBY0TDfX"
      },
      "execution_count": 11,
      "outputs": []
    },
    {
      "cell_type": "code",
      "source": [
        "\n",
        "def read_file_line_by_line(filepath):\n",
        "    \"\"\"\n",
        "    Reads a file line by line and yields each line as a string.\n",
        "\n",
        "    Args:\n",
        "        filepath: The path to the file.\n",
        "\n",
        "    Yields:\n",
        "        str: The next line in the file.\n",
        "    \"\"\"\n",
        "    try:\n",
        "        with open(filepath, 'r') as file:\n",
        "            for line in file:\n",
        "                yield line.strip()\n",
        "    except FileNotFoundError:\n",
        "        print(f\"Error: File not found at {filepath}\")\n",
        "        return"
      ],
      "metadata": {
        "id": "D6SRm9SPTOrS"
      },
      "execution_count": null,
      "outputs": []
    },
    {
      "cell_type": "code",
      "source": [
        "# 8 Use a lambda function in Python to sort a list of tuples based on the second element of each tuple."
      ],
      "metadata": {
        "id": "sfGMRiN4TX2h"
      },
      "execution_count": 12,
      "outputs": []
    },
    {
      "cell_type": "code",
      "source": [
        "list_of_tuples = [(1, 5), (3, 2), (2, 8), (4, 1)]\n",
        "\n",
        "sorted_list = sorted(list_of_tuples, key=lambda x: x[1])\n",
        "\n",
        "sorted_list"
      ],
      "metadata": {
        "id": "ZSACU0M6TmK_",
        "outputId": "9c1ff252-a669-4e1b-e4b0-239461aaba6e",
        "colab": {
          "base_uri": "https://localhost:8080/"
        }
      },
      "execution_count": 13,
      "outputs": [
        {
          "output_type": "execute_result",
          "data": {
            "text/plain": [
              "[(4, 1), (3, 2), (1, 5), (2, 8)]"
            ]
          },
          "metadata": {},
          "execution_count": 13
        }
      ]
    },
    {
      "cell_type": "code",
      "source": [
        "# 9.Write a Python program that uses `map()` to convert a list of temperatures from Celsius to Fahrenheit."
      ],
      "metadata": {
        "id": "r4uTMQJXTm76"
      },
      "execution_count": 14,
      "outputs": []
    },
    {
      "cell_type": "code",
      "source": [
        "def celsius_to_fahrenheit(celsius):\n",
        "    \"\"\"Converts Celsius to Fahrenheit.\"\"\"\n",
        "    return (celsius * 9/5) + 32\n",
        "\n",
        "celsius_temperatures = [0, 10, 20, 30, 40]\n",
        "fahrenheit_temperatures = list(map(celsius_to_fahrenheit, celsius_temperatures))\n",
        "fahrenheit_temperatures"
      ],
      "metadata": {
        "id": "v0M2AsdmT2RB",
        "outputId": "0ce69bc0-8100-4196-9285-aac5f882dc6e",
        "colab": {
          "base_uri": "https://localhost:8080/"
        }
      },
      "execution_count": 15,
      "outputs": [
        {
          "output_type": "execute_result",
          "data": {
            "text/plain": [
              "[32.0, 50.0, 68.0, 86.0, 104.0]"
            ]
          },
          "metadata": {},
          "execution_count": 15
        }
      ]
    },
    {
      "cell_type": "code",
      "source": [
        "#  10.Create a Python program that uses `filter()` to remove all the vowels from a given string."
      ],
      "metadata": {
        "id": "OeKhmaLsT5D_"
      },
      "execution_count": 16,
      "outputs": []
    },
    {
      "cell_type": "code",
      "source": [
        "def remove_vowels(input_string):\n",
        "    vowels = \"aeiouAEIOU\"\n",
        "    return \"\".join(filter(lambda char: char not in vowels, input_string))"
      ],
      "metadata": {
        "id": "6T3FpMZJUICb"
      },
      "execution_count": 17,
      "outputs": []
    },
    {
      "cell_type": "code",
      "source": [
        "remove_vowels(\"dfhbffsaggg\")"
      ],
      "metadata": {
        "id": "qQzQSh_GUI_I",
        "outputId": "3b8d1e1e-1812-4d0e-a91e-73600270c979",
        "colab": {
          "base_uri": "https://localhost:8080/",
          "height": 36
        }
      },
      "execution_count": 18,
      "outputs": [
        {
          "output_type": "execute_result",
          "data": {
            "text/plain": [
              "'dfhbffsggg'"
            ],
            "application/vnd.google.colaboratory.intrinsic+json": {
              "type": "string"
            }
          },
          "metadata": {},
          "execution_count": 18
        }
      ]
    },
    {
      "cell_type": "code",
      "source": [
        "# 11.Imagine an accounting routine used in a book shop. It works on a list with sublists, which look like this:\n",
        "\n",
        "\n",
        "\n",
        "\n",
        "\n",
        "\n",
        "\n",
        "# Write a Python program, which returns a list with 2-tuples. Each tuple consists of the order number and the\n",
        "# product of the price per item and the quantity. The product should be increased by 10,- € if the value of the\n",
        "# order is smaller than 100,00 €.\n",
        "\n",
        "# Write a Python program using lambda and map"
      ],
      "metadata": {
        "id": "vngJ5Z84UQpC"
      },
      "execution_count": null,
      "outputs": []
    },
    {
      "cell_type": "code",
      "source": [
        "# List of orders: [order_number, book_title_and_author, quantity, price_per_item]\n",
        "orders = [\n",
        "    [34587, \"Learning Python, Mark Lutz\", 4, 40.95],\n",
        "    [98762, \"Programming Python, Mark Lutz\", 5, 56.80],\n",
        "    [77226, \"Head First Python, Paul Barry\", 3, 33.95],\n",
        "    [88112, \"Einfuhrung in Python 3, Bernd Klein\", 3, 24.99],\n",
        "]\n",
        "\n",
        "# Using map and lambda to calculate the required result\n",
        "result = list(map(\n",
        "    lambda order: (\n",
        "        order[0],  # Order number\n",
        "        round(order[2] * order[3] + (10 if order[2] * order[3] < 100 else 0), 2)  # Adjusted total rounded to 2 decimals\n",
        "    ),\n",
        "    orders\n",
        "))\n",
        "\n",
        "# Output the result\n",
        "print(result)\n"
      ],
      "metadata": {
        "id": "UujNCkwNYgf1",
        "outputId": "bc02f177-25c9-4d4e-94aa-8b97d9a5197d",
        "colab": {
          "base_uri": "https://localhost:8080/"
        }
      },
      "execution_count": 19,
      "outputs": [
        {
          "output_type": "stream",
          "name": "stdout",
          "text": [
            "[(34587, 163.8), (98762, 284.0), (77226, 101.85), (88112, 84.97)]\n"
          ]
        }
      ]
    },
    {
      "cell_type": "code",
      "source": [],
      "metadata": {
        "id": "olONLL9RYiyE"
      },
      "execution_count": null,
      "outputs": []
    }
  ]
}